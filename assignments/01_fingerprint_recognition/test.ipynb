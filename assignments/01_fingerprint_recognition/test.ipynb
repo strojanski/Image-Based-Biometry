{
 "cells": [
  {
   "cell_type": "code",
   "execution_count": 13,
   "metadata": {},
   "outputs": [],
   "source": [
    "import subprocess as sb"
   ]
  },
  {
   "cell_type": "code",
   "execution_count": null,
   "metadata": {},
   "outputs": [],
   "source": []
  },
  {
   "cell_type": "code",
   "execution_count": 14,
   "metadata": {},
   "outputs": [],
   "source": [
    "from PIL import Image\n",
    "def upscale(image_path):\n",
    "    # Open an image file\n",
    "    img = Image.open(image_path)\n",
    "\n",
    "    # Get the size of the original image\n",
    "    width, height = img.size\n",
    "\n",
    "    # Upscale the image by 2x\n",
    "    new_size = (width * 2, height * 2)\n",
    "    upscaled_img = img.resize(new_size, Image.Resampling.LANCZOS)\n",
    "\n",
    "    # Save the upscaled image\n",
    "    upscaled_img.save(image_path)  # Replace with your desired output path\n",
    "\n"
   ]
  },
  {
   "cell_type": "code",
   "execution_count": 15,
   "metadata": {},
   "outputs": [],
   "source": [
    "import os \n",
    "import cv2\n",
    "\n",
    "\n",
    "for f in os.listdir(\"data/png\"):\n",
    "    if f.endswith(\".png\"):\n",
    "        # Upscale image 2x\n",
    "        upscale(f\"data/png/{f}\")\n",
    "        "
   ]
  }
 ],
 "metadata": {
  "kernelspec": {
   "display_name": "trust-me",
   "language": "python",
   "name": "python3"
  },
  "language_info": {
   "codemirror_mode": {
    "name": "ipython",
    "version": 3
   },
   "file_extension": ".py",
   "mimetype": "text/x-python",
   "name": "python",
   "nbconvert_exporter": "python",
   "pygments_lexer": "ipython3",
   "version": "3.11.5"
  }
 },
 "nbformat": 4,
 "nbformat_minor": 2
}
