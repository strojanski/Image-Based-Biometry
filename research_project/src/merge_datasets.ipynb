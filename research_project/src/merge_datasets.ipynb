{
 "cells": [
  {
   "cell_type": "markdown",
   "metadata": {},
   "source": [
    "### Code to merge datasets into a single one"
   ]
  },
  {
   "cell_type": "code",
   "execution_count": 91,
   "metadata": {},
   "outputs": [],
   "source": [
    "import os\n",
    "import cv2\n",
    "from PIL import Image"
   ]
  },
  {
   "cell_type": "code",
   "execution_count": 92,
   "metadata": {},
   "outputs": [],
   "source": [
    "iris_path = \"../../data/casia_iris\"\n",
    "fingerprint_path = \"../../data/casia_fingerprint\"\n",
    "faces_path = \"../../data/celebfaces\""
   ]
  },
  {
   "cell_type": "code",
   "execution_count": 93,
   "metadata": {},
   "outputs": [],
   "source": [
    "def get_n_subjects_face():\n",
    "    with open(faces_path + \"/identities.txt\", \"r\") as f:\n",
    "        text = f.read()\n",
    "        \n",
    "        lines = text.split(\"\\n\")\n",
    "        ids = []\n",
    "        for l in lines:\n",
    "            if len(l) == 0:\n",
    "                continue\n",
    "            id_ = l.split(\" \")[1]\n",
    "            ids.append(id_)\n",
    "        \n",
    "        \n",
    "        f.close()\n",
    "        \n",
    "        return len(set(ids))"
   ]
  },
  {
   "cell_type": "code",
   "execution_count": 94,
   "metadata": {},
   "outputs": [
    {
     "data": {
      "text/plain": [
       "1000"
      ]
     },
     "execution_count": 94,
     "metadata": {},
     "output_type": "execute_result"
    }
   ],
   "source": [
    "iris_n_sub = len(os.listdir(iris_path))\n",
    "iris_n_sub"
   ]
  },
  {
   "cell_type": "code",
   "execution_count": 95,
   "metadata": {},
   "outputs": [
    {
     "data": {
      "text/plain": [
       "500"
      ]
     },
     "execution_count": 95,
     "metadata": {},
     "output_type": "execute_result"
    }
   ],
   "source": [
    "fingerprint_n_sub = len(os.listdir(fingerprint_path))\n",
    "fingerprint_n_sub"
   ]
  },
  {
   "cell_type": "code",
   "execution_count": 96,
   "metadata": {},
   "outputs": [
    {
     "data": {
      "text/plain": [
       "10177"
      ]
     },
     "execution_count": 96,
     "metadata": {},
     "output_type": "execute_result"
    }
   ],
   "source": [
    "face_n_sub = get_n_subjects_face()\n",
    "face_n_sub"
   ]
  },
  {
   "cell_type": "code",
   "execution_count": 97,
   "metadata": {},
   "outputs": [],
   "source": [
    "def get_face_subs(n_sub):\n",
    "    \"\"\"Returns a list of tuples with the subject id and the image_names of the subject\"\"\"\n",
    "    with open(faces_path + \"/identities.txt\", \"r\") as f:\n",
    "        text = f.read()\n",
    "        \n",
    "        sub_data = {}\n",
    "        lines = text.split(\"\\n\")\n",
    "        \n",
    "        for l in lines:\n",
    "            if len(l) == 0:\n",
    "                continue\n",
    "            id_ = l.split(\" \")[1]\n",
    "            img = l.split(\" \")[0]\n",
    "            \n",
    "            if id_ not in sub_data:\n",
    "                sub_data[id_] = []\n",
    "            sub_data[id_].append(img)\n",
    "            \n",
    "    subjects = list(sub_data.keys())\n",
    "    subjects = subjects[:n_sub]\n",
    "    \n",
    "    return [(s, sub_data[s]) for s in subjects]"
   ]
  },
  {
   "cell_type": "code",
   "execution_count": 98,
   "metadata": {},
   "outputs": [],
   "source": [
    "N_SUB = 500\n",
    "\n",
    "iris_subs = os.listdir(iris_path)[:N_SUB]\n",
    "fingerprint_subs = os.listdir(fingerprint_path)[:N_SUB]\n",
    "face_subs = get_face_subs(N_SUB)    # (subject_id, [image_names])"
   ]
  },
  {
   "cell_type": "code",
   "execution_count": 99,
   "metadata": {},
   "outputs": [],
   "source": [
    "face_sub_names = [s[0] for s in face_subs]\n",
    "\n",
    "new_dataset_path = \"../../data/combined_dataset\"\n",
    "if not os.path.exists(new_dataset_path):\n",
    "    os.makedirs(new_dataset_path)\n"
   ]
  },
  {
   "cell_type": "code",
   "execution_count": 100,
   "metadata": {},
   "outputs": [],
   "source": [
    "def create_dirs(new_sub_path):\n",
    "    os.makedirs(new_sub_path, exist_ok=True)\n",
    "    os.makedirs(new_sub_path + \"/iris\", exist_ok=True)\n",
    "    os.makedirs(new_sub_path + \"/fingerprint\", exist_ok=True)\n",
    "    os.makedirs(new_sub_path + \"/face\", exist_ok=True)"
   ]
  },
  {
   "cell_type": "code",
   "execution_count": null,
   "metadata": {},
   "outputs": [],
   "source": [
    "def get_iris_imgs(iris_sub):\n",
    "    iris_sub_path = iris_path + \"/\" + iris_sub\n",
    "    \n",
    "    # Left imgs\n",
    "    left_iris_imgs = os.listdir(iris_sub_path + \"/L\")\n",
    "    left_iris_imgs = [Image.open(iris_sub_path + \"/L/\" + img) for img in left_iris_imgs if img.endswith(\".jpg\")]\n",
    "    \n",
    "    # Right imgs\n",
    "    right_iris_imgs = os.listdir(iris_sub_path + \"/R\")\n",
    "    right_iris_imgs = [Image.open(iris_sub_path + \"/R/\" + img) for img in right_iris_imgs if img.endswith(\".jpg\")]\n",
    "    \n",
    "    iris_data = left_iris_imgs + right_iris_imgs\n",
    "    \n",
    "    return iris_data\n",
    "    \n",
    "def get_fingerprint_imgs(fingerprint_sub):\n",
    "    fingerprint_sub_path = iris_path + \"/\" + fingerprint_sub\n",
    "    print(fingerprint_sub_path)\n",
    "    \n",
    "    # Left imgs\n",
    "    left_fingerprint_imgs = os.listdir(fingerprint_sub_path + \"/L\")\n",
    "    print(left_fingerprint_imgs)\n",
    "    left_fingerprint_imgs = [Image.open(fingerprint_sub_path + \"/L/\" + img).convert(\"RGB\") for img in left_fingerprint_imgs if img.endswith(\".bmp\")]\n",
    "    \n",
    "    # Right imgs\n",
    "    right_fingerprint_imgs = os.listdir(fingerprint_sub_path + \"/R\")\n",
    "    right_fingerprint_imgs = [Image.open(fingerprint_sub_path + \"/R/\" + img).convert(\"RGB\") for img in right_fingerprint_imgs if img.endswith(\".bmp\")]\n",
    "    \n",
    "    fingerprint_data = left_fingerprint_imgs + right_fingerprint_imgs\n",
    "    \n",
    "    return fingerprint_data\n",
    "    \n",
    "def get_face_imgs(face_image_names: list):\n",
    "    print(faces_path + \"/faces/\" + face_image_names[0])\n",
    "    face_data = [Image.open(faces_path + \"faces/\" + img) for img in os.listdir(faces_path) if img in face_image_names]\n",
    "    return face_data\n"
   ]
  },
  {
   "cell_type": "code",
   "execution_count": 105,
   "metadata": {},
   "outputs": [],
   "source": [
    "def write_imgs(imgs, new_sub_path):\n",
    "    for i, img in enumerate(imgs):\n",
    "        img.save(new_sub_path + \"/{}.jpg\".format(i), \"JPG\")"
   ]
  },
  {
   "cell_type": "code",
   "execution_count": 106,
   "metadata": {},
   "outputs": [
    {
     "name": "stdout",
     "output_type": "stream",
     "text": [
      "../../data/casia_iris/000\n",
      "../../data/celebfaces/faces/000001.jpg\n",
      "20 0 0\n"
     ]
    }
   ],
   "source": [
    "for new_sub_id, (iris_sub, fingerprint_sub, face_pair )in enumerate(zip(iris_subs, fingerprint_subs, face_subs)):\n",
    "    # For each subject, create a folder with a new subject id\n",
    "    new_sub_path = new_dataset_path + \"/\" + str(new_sub_id)\n",
    "\n",
    "    create_dirs(new_sub_path)\n",
    "    \n",
    "    iris_imgs = get_iris_imgs(iris_sub)\n",
    "    fingerprint_imgs = get_fingerprint_imgs(fingerprint_sub)\n",
    "    face_imgs = get_face_imgs(face_pair[1])    \n",
    "    \n",
    "    print(len(iris_imgs), len(fingerprint_imgs), len(face_imgs))\n",
    "    break\n",
    "    \n",
    "    "
   ]
  }
 ],
 "metadata": {
  "kernelspec": {
   "display_name": ".venv",
   "language": "python",
   "name": "python3"
  },
  "language_info": {
   "codemirror_mode": {
    "name": "ipython",
    "version": 3
   },
   "file_extension": ".py",
   "mimetype": "text/x-python",
   "name": "python",
   "nbconvert_exporter": "python",
   "pygments_lexer": "ipython3",
   "version": "3.8.19"
  }
 },
 "nbformat": 4,
 "nbformat_minor": 2
}
